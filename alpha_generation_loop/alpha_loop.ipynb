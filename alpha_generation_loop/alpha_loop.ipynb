{
 "cells": [
  {
   "cell_type": "markdown",
   "metadata": {},
   "source": [
    "# Orion Alpha Generation Loop\n",
    "このノートブックは、BigQueryの市場データレイクを分析し、\n",
    "最適な投資戦略を導き出し、その結果をリアルタイム分析エンジン\n",
    "(`orion-insight-wrangler`)の「コアテーゼ」として自動更新します。"
   ]
  },
  {
   "cell_type": "code",
   "execution_count": null,
   "metadata": {},
   "outputs": [],
   "source": [
    "import os\n",
    "import pandas as pd\n",
    "from google.cloud import bigquery, firestore\n",
    "from vertexai.generative_models import GenerativeModel\n",
    "from backtesting import Backtest, Strategy\n",
    "from backtesting.lib import crossover\n",
    "from backtesting.test import SMA\n",
    "import warnings\n",
    "warnings.filterwarnings('ignore')"
   ]
  },
  {
   "cell_type": "code",
   "execution_count": null,
   "metadata": {},
   "outputs": [],
   "source": [
    "# --- 設定 ---",
    "PROJECT_ID = os.environ.get(\"GOOGLE_CLOUD_PROJECT\")",
    "BQ_DATASET_ID = \"orion_datalake\"",
    "BQ_TABLE_ID = \"market_data_history\"",
    "CONFIG_COLLECTION = \"orion_system_config\"",
    "CORE_THESIS_DOC_ID = \"dynamic_core_thesis\"",
    "\n",
    "vertexai.init(project=PROJECT_ID, location=\"asia-northeast1\")",
    "bq_client = bigquery.Client(project=PROJECT_ID)",
    "db = firestore.Client()"
   ]
  },
  {
   "cell_type": "markdown",
   "metadata": {},
   "source": [
    "### ステップA: データレイクから履歴データを取得"
   ]
  },
  {
   "cell_type": "code",
   "execution_count": null,
   "metadata": {},
   "outputs": [],
   "source": [
    "print(\"BigQueryデータレイクから市場データをロードしています...\")",
    "query = f\"\"\"\n",
    "    SELECT timestamp, open, high, low, close, volume\n",
    "    FROM `{PROJECT_ID}.{BQ_DATASET_ID}.{BQ_TABLE_ID}`\n",
    "    WHERE symbol = 'AAPL' -- バックテスト対象をAAPLに限定\n",
    "    ORDER BY timestamp\n",
    "\"\""
    "df = bq_client.query(query).to_dataframe()",
    "df.set_index('timestamp', inplace=True)",
    "# backtesting.pyが要求するカラム名に変換",
    "df.rename(columns={",
    "    'open': 'Open', 'high': 'High', 'low': 'Low', 'close': 'Close', 'volume': 'Volume'",
    "}, inplace=True)",
    "\n",
    "print(f{len(df)}行のデータをロードしました。)",
    "print(df.head())"
   ]
  },
  {
   "cell_type": "markdown",
   "metadata": {},
   "source": [
    "### ステップB: バックテストの実行\n",
    "ここでは単純な移動平均クロスオーバー戦略をテストします。"
   ]
  },
  {
   "cell_type": "code",
   "execution_count": null,
   "metadata": {},
   "outputs": [],
   "source": [
    "class SmaCross(Strategy):",
    "    n1 = 10",
    "    n2 = 20",
    "",
    "    def init(self):",
    "        close = self.data.Close",
    "        self.sma1 = self.I(SMA, close, self.n1)",
    "        self.sma2 = self.I(SMA, close, self.n2)",
    "",
    "    def next(self):",
    "        if crossover(self.sma1, self.sma2):",
    "            self.buy()",
    "        elif crossover(self.sma2, self.sma1):",
    "            self.sell()",
    "",
    "bt = Backtest(df, SmaCross, cash=100000, commission=.002)",
    "stats = bt.run()",
    "print(\"バックテスト結果:\")",
    "print(stats)",
    "bt.plot()"
   ]
  },
  {
   "cell_type": "markdown",
   "metadata": {},
   "source": [
    "### ステップC: Geminiによる戦略の蒸留\n",
    "バックテスト結果を基に、Geminiに最適な投資戦略を自然言語で要約させます。"
   ]
  },
  {
   "cell_type": "code",
   "execution_count": null,
   "metadata": {},
   "outputs": [],
   "source": [
    "print(\"Geminiによる戦略の蒸留を開始...\")",
    "model = GenerativeModel(\"gemini-1.5-pro\")",
    "\n",
    "prompt = f\"\"\"",
    "以下のバックテスト結果を分析し、この結果から導き出される最も効果的な投資戦略を、",
    "orion-insight-wranglerがリアルタイムニュース分析に利用するための「コアテーゼ」として、",
    "簡潔な自然言語の段落で要約・抽出してください。",
    "",
    "バックテスト結果:",
    "{stats}",
    "",
    "",
    "コアテーゼの例:",
    "「我々は、短期的な市場の勢いに注目し、特にテクノロジーセクターにおける移動平均線のゴールデンクロスを形成する銘柄に関連するニュースに関心がある。M&Aや新製品発表などのポジティブなカタリストが伴う場合、特に重要視する。」",
    "",
    "あなたの分析に基づいた新しいコアテーゼを生成してください:",
    "\"\""
    "\n",
    "response = model.generate_content(prompt)",
    "new_core_thesis = response.text",
    "print(\"\n生成された新しいコアテーゼ:\")",
    "print(new_core_thesis)"
   ]
  },
  {
   "cell_type": "markdown",
   "metadata": {},
   "source": [
    "### ステップD: 動的再構成\n",
    "生成された新しいコアテーゼをFirestoreに保存し、リアルタイム分析エンジンを更新します。"
   ]
  },
  {
   "cell_type": "code",
   "execution_count": null,
   "metadata": {},
   "outputs": [],
   "source": [
    "print(\"Firestoreのコアテーゼを更新しています...\")",
    "doc_ref = db.collection(CONFIG_COLLECTION).document(CORE_THESIS_DOC_ID)",
    "doc_ref.set({",
    "    'thesis_text': new_core_thesis,",
    "    'last_updated': firestore.SERVER_TIMESTAMP,",
    "    'source': 'alpha_generation_loop'",
    "})",
    "print(\"更新が完了しました。orion-insight-wranglerは次回の実行から新しい戦略を使用します。\")"
   ]
  }
 ],
 "metadata": {
  "kernelspec": {
   "display_name": "Python 3",
   "language": "python",
   "name": "python3"
  },
  "language_info": {
   "codemirror_mode": {
    "name": "ipython",
    "version": 3
   },
   "file_extension": ".py",
   "mimetype": "text/x-python",
   "name": "python",
   "nbconvert_exporter": "python",
   "pygments_lexer": "ipython3",
   "version": "3.12.2"
  }
 },
 "nbformat": 4,
 "nbformat_minor": 4
}
